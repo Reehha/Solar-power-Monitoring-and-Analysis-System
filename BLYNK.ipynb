import pandas


path = '/content/sample_data/'
xls_path=path + 'SOLAR.xlsx'
df = pandas.read_excel(xls_path)

print(df)

voltage=df['CURRENT ']
print(voltage)
for i in range(len(voltage)):
  print(i,voltage[i])

#TEST 
import requests
val=requests.get("https://blr1.blynk.cloud/external/api/update?token=ctTldWrIzsTolaDv-F9sdiizAFOeKk3k&V1=520")
print(val.status_code)
val2=requests.get("https://blr1.blynk.cloud/external/api/update?token=ctTldWrIzsTolaDv-F9sdiizAFOeKk3k&V2=115")


#TEST 
import requests
val=requests.get(lnk)
print(val.status_code)
val2=requests.get(lnk3)

#define BLYNK_TEMPLATE_ID "TMPL7XA-i_4F"
#define BLYNK_DEVICE_NAME "DASHBOARDTESTING"
#define BLYNK_AUTH_TOKEN "LlKsv_DR2XmV5vqIZTVPvcEncFg4xvCS"
V0 -POWER
V2- cT
V3- VOLTAGE 

import pandas
import requests


path = '/content/sample_data/'
xls_path=path + 'SOLAR.xlsx'
df = pandas.read_excel(xls_path)
voltage=df['VOLTAGE']
current=df['CURRENT ']
power=df['POWER']
print(voltage)
token='LlKsv_DR2XmV5vqIZTVPvcEncFg4xvCS';

for i in range(len(voltage)):
  print(i,voltage[i],current[i],power[i])
  lnk_vol="https://blr1.blynk.cloud/external/api/update?token={}&V3={}".format(token,voltage[i])
  lnk_ct="https://blr1.blynk.cloud/external/api/update?token={}&V2={}".format(token,current[i])
  lnk_pow="https://blr1.blynk.cloud/external/api/update?token={}&V0={}".format(token,power[i])
  val_vol=requests.get(lnk_vol)
  val_ct=requests.get(lnk_ct)
  val_pow=requests.get(lnk_pow)
